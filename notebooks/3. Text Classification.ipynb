{
 "cells": [
  {
   "cell_type": "code",
   "execution_count": 1,
   "metadata": {},
   "outputs": [],
   "source": [
    "%matplotlib inline\n",
    "import tensorflow as tf\n",
    "from tensorflow import keras"
   ]
  },
  {
   "cell_type": "code",
   "execution_count": 2,
   "metadata": {},
   "outputs": [],
   "source": [
    "imdb = keras.datasets.imdb"
   ]
  },
  {
   "cell_type": "code",
   "execution_count": 3,
   "metadata": {},
   "outputs": [],
   "source": [
    "(train_data, train_labels), (test_data, test_labels) = imdb.load_data(num_words=10000)"
   ]
  },
  {
   "cell_type": "code",
   "execution_count": 4,
   "metadata": {},
   "outputs": [
    {
     "name": "stdout",
     "output_type": "stream",
     "text": [
      "Training entries: 25000, labels: 25000\n"
     ]
    }
   ],
   "source": [
    "print(\"Training entries: {}, labels: {}\".format(len(train_data), len(train_labels)))"
   ]
  },
  {
   "cell_type": "code",
   "execution_count": 5,
   "metadata": {},
   "outputs": [
    {
     "name": "stdout",
     "output_type": "stream",
     "text": [
      "[1, 14, 22, 16, 43, 530, 973, 1622, 1385, 65, 458, 4468, 66, 3941, 4, 173, 36, 256, 5, 25, 100, 43, 838, 112, 50, 670, 2, 9, 35, 480, 284, 5, 150, 4, 172, 112, 167, 2, 336, 385, 39, 4, 172, 4536, 1111, 17, 546, 38, 13, 447, 4, 192, 50, 16, 6, 147, 2025, 19, 14, 22, 4, 1920, 4613, 469, 4, 22, 71, 87, 12, 16, 43, 530, 38, 76, 15, 13, 1247, 4, 22, 17, 515, 17, 12, 16, 626, 18, 2, 5, 62, 386, 12, 8, 316, 8, 106, 5, 4, 2223, 5244, 16, 480, 66, 3785, 33, 4, 130, 12, 16, 38, 619, 5, 25, 124, 51, 36, 135, 48, 25, 1415, 33, 6, 22, 12, 215, 28, 77, 52, 5, 14, 407, 16, 82, 2, 8, 4, 107, 117, 5952, 15, 256, 4, 2, 7, 3766, 5, 723, 36, 71, 43, 530, 476, 26, 400, 317, 46, 7, 4, 2, 1029, 13, 104, 88, 4, 381, 15, 297, 98, 32, 2071, 56, 26, 141, 6, 194, 7486, 18, 4, 226, 22, 21, 134, 476, 26, 480, 5, 144, 30, 5535, 18, 51, 36, 28, 224, 92, 25, 104, 4, 226, 65, 16, 38, 1334, 88, 12, 16, 283, 5, 16, 4472, 113, 103, 32, 15, 16, 5345, 19, 178, 32]\n"
     ]
    }
   ],
   "source": [
    "print(train_data[0])"
   ]
  },
  {
   "cell_type": "code",
   "execution_count": 6,
   "metadata": {},
   "outputs": [
    {
     "data": {
      "text/plain": [
       "(218, 189)"
      ]
     },
     "execution_count": 6,
     "metadata": {},
     "output_type": "execute_result"
    }
   ],
   "source": [
    "len(train_data[0]), len(train_data[1])"
   ]
  },
  {
   "cell_type": "code",
   "execution_count": 7,
   "metadata": {},
   "outputs": [],
   "source": [
    "word_index = imdb.get_word_index()"
   ]
  },
  {
   "cell_type": "code",
   "execution_count": 8,
   "metadata": {},
   "outputs": [],
   "source": [
    "# The first indices are reserved\n",
    "word_index = {k:(v+3) for k,v in word_index.items()}\n",
    "word_index[\"<PAD>\"] = 0\n",
    "word_index[\"<START>\"] = 1\n",
    "word_index[\"<UNK>\"] = 2  # unknown\n",
    "word_index[\"<UNUSED>\"] = 3\n",
    "\n",
    "reverse_word_index = dict([(value, key) for (key, value) in word_index.items()])\n",
    "\n",
    "def decode_review(text):\n",
    "    return ' '.join([reverse_word_index.get(i, '?') for i in text])"
   ]
  },
  {
   "cell_type": "code",
   "execution_count": 9,
   "metadata": {},
   "outputs": [
    {
     "data": {
      "text/plain": [
       "\"<START> this film was just brilliant casting location scenery story direction everyone's really suited the part they played and you could just imagine being there robert <UNK> is an amazing actor and now the same being director <UNK> father came from the same scottish island as myself so i loved the fact there was a real connection with this film the witty remarks throughout the film were great it was just brilliant so much that i bought the film as soon as it was released for <UNK> and would recommend it to everyone to watch and the fly fishing was amazing really cried at the end it was so sad and you know what they say if you cry at a film it must have been good and this definitely was also <UNK> to the two little boy's that played the <UNK> of norman and paul they were just brilliant children are often left out of the <UNK> list i think because the stars that play them all grown up are such a big profile for the whole film but these children are amazing and should be praised for what they have done don't you think the whole story was so lovely because it was true and was someone's life after all that was shared with us all\""
      ]
     },
     "execution_count": 9,
     "metadata": {},
     "output_type": "execute_result"
    }
   ],
   "source": [
    "decode_review(train_data[0])"
   ]
  },
  {
   "cell_type": "code",
   "execution_count": 10,
   "metadata": {},
   "outputs": [],
   "source": [
    "train_data = keras.preprocessing.sequence.pad_sequences(train_data,\n",
    "                                                        value=word_index[\"<PAD>\"],\n",
    "                                                        padding='post',\n",
    "                                                        maxlen=256)\n",
    "\n",
    "test_data = keras.preprocessing.sequence.pad_sequences(test_data,\n",
    "                                                       value=word_index[\"<PAD>\"],\n",
    "                                                       padding='post',\n",
    "                                                       maxlen=256)"
   ]
  },
  {
   "cell_type": "code",
   "execution_count": 11,
   "metadata": {},
   "outputs": [
    {
     "data": {
      "text/plain": [
       "(256, 256)"
      ]
     },
     "execution_count": 11,
     "metadata": {},
     "output_type": "execute_result"
    }
   ],
   "source": [
    "len(train_data[0]), len(train_data[1])"
   ]
  },
  {
   "cell_type": "code",
   "execution_count": 12,
   "metadata": {},
   "outputs": [
    {
     "name": "stdout",
     "output_type": "stream",
     "text": [
      "[   1   14   22   16   43  530  973 1622 1385   65  458 4468   66 3941\n",
      "    4  173   36  256    5   25  100   43  838  112   50  670    2    9\n",
      "   35  480  284    5  150    4  172  112  167    2  336  385   39    4\n",
      "  172 4536 1111   17  546   38   13  447    4  192   50   16    6  147\n",
      " 2025   19   14   22    4 1920 4613  469    4   22   71   87   12   16\n",
      "   43  530   38   76   15   13 1247    4   22   17  515   17   12   16\n",
      "  626   18    2    5   62  386   12    8  316    8  106    5    4 2223\n",
      " 5244   16  480   66 3785   33    4  130   12   16   38  619    5   25\n",
      "  124   51   36  135   48   25 1415   33    6   22   12  215   28   77\n",
      "   52    5   14  407   16   82    2    8    4  107  117 5952   15  256\n",
      "    4    2    7 3766    5  723   36   71   43  530  476   26  400  317\n",
      "   46    7    4    2 1029   13  104   88    4  381   15  297   98   32\n",
      " 2071   56   26  141    6  194 7486   18    4  226   22   21  134  476\n",
      "   26  480    5  144   30 5535   18   51   36   28  224   92   25  104\n",
      "    4  226   65   16   38 1334   88   12   16  283    5   16 4472  113\n",
      "  103   32   15   16 5345   19  178   32    0    0    0    0    0    0\n",
      "    0    0    0    0    0    0    0    0    0    0    0    0    0    0\n",
      "    0    0    0    0    0    0    0    0    0    0    0    0    0    0\n",
      "    0    0    0    0]\n"
     ]
    }
   ],
   "source": [
    "print(train_data[0])"
   ]
  },
  {
   "cell_type": "code",
   "execution_count": 13,
   "metadata": {},
   "outputs": [
    {
     "name": "stdout",
     "output_type": "stream",
     "text": [
      "WARNING:tensorflow:From C:\\Users\\wegam\\Anaconda3\\lib\\site-packages\\tensorflow\\python\\ops\\resource_variable_ops.py:435: colocate_with (from tensorflow.python.framework.ops) is deprecated and will be removed in a future version.\n",
      "Instructions for updating:\n",
      "Colocations handled automatically by placer.\n"
     ]
    }
   ],
   "source": [
    "vocab_size = 10000\n",
    "\n",
    "model = keras.Sequential()\n",
    "model.add(keras.layers.Embedding(vocab_size, 16))\n",
    "model.add(keras.layers.GlobalAveragePooling1D())\n",
    "model.add(keras.layers.Dense(16, activation=tf.nn.relu))\n",
    "model.add(keras.layers.Dense(1, activation=tf.nn.sigmoid))"
   ]
  },
  {
   "cell_type": "code",
   "execution_count": 14,
   "metadata": {},
   "outputs": [],
   "source": [
    "model.compile(optimizer=tf.train.AdamOptimizer(),\n",
    "              loss='binary_crossentropy',\n",
    "              metrics=['accuracy'])"
   ]
  },
  {
   "cell_type": "code",
   "execution_count": 15,
   "metadata": {},
   "outputs": [],
   "source": [
    "x_val = train_data[:10000]\n",
    "partial_x_train = train_data[10000:]\n",
    "\n",
    "y_val = train_labels[:10000]\n",
    "partial_y_train = train_labels[10000:]"
   ]
  },
  {
   "cell_type": "code",
   "execution_count": 16,
   "metadata": {},
   "outputs": [
    {
     "name": "stdout",
     "output_type": "stream",
     "text": [
      "Train on 15000 samples, validate on 10000 samples\n",
      "WARNING:tensorflow:From C:\\Users\\wegam\\Anaconda3\\lib\\site-packages\\tensorflow\\python\\ops\\math_ops.py:3066: to_int32 (from tensorflow.python.ops.math_ops) is deprecated and will be removed in a future version.\n",
      "Instructions for updating:\n",
      "Use tf.cast instead.\n",
      "Epoch 1/40\n",
      "15000/15000 [==============================] - 1s 76us/sample - loss: 0.6918 - acc: 0.6057 - val_loss: 0.6899 - val_acc: 0.6961\n",
      "Epoch 2/40\n",
      "15000/15000 [==============================] - 1s 38us/sample - loss: 0.6861 - acc: 0.7468 - val_loss: 0.6822 - val_acc: 0.7292\n",
      "Epoch 3/40\n",
      "15000/15000 [==============================] - 1s 38us/sample - loss: 0.6742 - acc: 0.7537 - val_loss: 0.6677 - val_acc: 0.7591\n",
      "Epoch 4/40\n",
      "15000/15000 [==============================] - 1s 39us/sample - loss: 0.6544 - acc: 0.7642 - val_loss: 0.6455 - val_acc: 0.7653\n",
      "Epoch 5/40\n",
      "15000/15000 [==============================] - 1s 39us/sample - loss: 0.6257 - acc: 0.7967 - val_loss: 0.6155 - val_acc: 0.7862\n",
      "Epoch 6/40\n",
      "15000/15000 [==============================] - 1s 39us/sample - loss: 0.5882 - acc: 0.8144 - val_loss: 0.5781 - val_acc: 0.8021\n",
      "Epoch 7/40\n",
      "15000/15000 [==============================] - 1s 39us/sample - loss: 0.5438 - acc: 0.8253 - val_loss: 0.5357 - val_acc: 0.8173\n",
      "Epoch 8/40\n",
      "15000/15000 [==============================] - 1s 38us/sample - loss: 0.4974 - acc: 0.8428 - val_loss: 0.4945 - val_acc: 0.8302\n",
      "Epoch 9/40\n",
      "15000/15000 [==============================] - 1s 38us/sample - loss: 0.4519 - acc: 0.8581 - val_loss: 0.4552 - val_acc: 0.8415\n",
      "Epoch 10/40\n",
      "15000/15000 [==============================] - 1s 38us/sample - loss: 0.4104 - acc: 0.8701 - val_loss: 0.4220 - val_acc: 0.8489\n",
      "Epoch 11/40\n",
      "15000/15000 [==============================] - 1s 38us/sample - loss: 0.3747 - acc: 0.8787 - val_loss: 0.3942 - val_acc: 0.8573\n",
      "Epoch 12/40\n",
      "15000/15000 [==============================] - 1s 38us/sample - loss: 0.3447 - acc: 0.8884 - val_loss: 0.3730 - val_acc: 0.8602\n",
      "Epoch 13/40\n",
      "15000/15000 [==============================] - 1s 38us/sample - loss: 0.3203 - acc: 0.8939 - val_loss: 0.3543 - val_acc: 0.8670\n",
      "Epoch 14/40\n",
      "15000/15000 [==============================] - 1s 39us/sample - loss: 0.2986 - acc: 0.8992 - val_loss: 0.3409 - val_acc: 0.8698\n",
      "Epoch 15/40\n",
      "15000/15000 [==============================] - 1s 39us/sample - loss: 0.2808 - acc: 0.9035 - val_loss: 0.3296 - val_acc: 0.8728\n",
      "Epoch 16/40\n",
      "15000/15000 [==============================] - 1s 39us/sample - loss: 0.2648 - acc: 0.9090 - val_loss: 0.3205 - val_acc: 0.8752\n",
      "Epoch 17/40\n",
      "15000/15000 [==============================] - 1s 38us/sample - loss: 0.2502 - acc: 0.9144 - val_loss: 0.3130 - val_acc: 0.8775\n",
      "Epoch 18/40\n",
      "15000/15000 [==============================] - 1s 39us/sample - loss: 0.2374 - acc: 0.9189 - val_loss: 0.3063 - val_acc: 0.8798\n",
      "Epoch 19/40\n",
      "15000/15000 [==============================] - 1s 38us/sample - loss: 0.2259 - acc: 0.9215 - val_loss: 0.3010 - val_acc: 0.8810\n",
      "Epoch 20/40\n",
      "15000/15000 [==============================] - 1s 38us/sample - loss: 0.2155 - acc: 0.9248 - val_loss: 0.2974 - val_acc: 0.8810\n",
      "Epoch 21/40\n",
      "15000/15000 [==============================] - 1s 39us/sample - loss: 0.2051 - acc: 0.9301 - val_loss: 0.2943 - val_acc: 0.8817\n",
      "Epoch 22/40\n",
      "15000/15000 [==============================] - 1s 38us/sample - loss: 0.1963 - acc: 0.9326 - val_loss: 0.2912 - val_acc: 0.8840\n",
      "Epoch 23/40\n",
      "15000/15000 [==============================] - 1s 38us/sample - loss: 0.1875 - acc: 0.9368 - val_loss: 0.2900 - val_acc: 0.8835\n",
      "Epoch 24/40\n",
      "15000/15000 [==============================] - 1s 38us/sample - loss: 0.1798 - acc: 0.9401 - val_loss: 0.2883 - val_acc: 0.8852\n",
      "Epoch 25/40\n",
      "15000/15000 [==============================] - 1s 38us/sample - loss: 0.1720 - acc: 0.9443 - val_loss: 0.2864 - val_acc: 0.8849\n",
      "Epoch 26/40\n",
      "15000/15000 [==============================] - 1s 38us/sample - loss: 0.1651 - acc: 0.9468 - val_loss: 0.2869 - val_acc: 0.8838\n",
      "Epoch 27/40\n",
      "15000/15000 [==============================] - 1s 39us/sample - loss: 0.1584 - acc: 0.9497 - val_loss: 0.2862 - val_acc: 0.8845\n",
      "Epoch 28/40\n",
      "15000/15000 [==============================] - 1s 38us/sample - loss: 0.1521 - acc: 0.9529 - val_loss: 0.2865 - val_acc: 0.8856\n",
      "Epoch 29/40\n",
      "15000/15000 [==============================] - 1s 39us/sample - loss: 0.1467 - acc: 0.9557 - val_loss: 0.2878 - val_acc: 0.8842\n",
      "Epoch 30/40\n",
      "15000/15000 [==============================] - 1s 39us/sample - loss: 0.1409 - acc: 0.9564 - val_loss: 0.2872 - val_acc: 0.8865\n",
      "Epoch 31/40\n",
      "15000/15000 [==============================] - 1s 38us/sample - loss: 0.1350 - acc: 0.9601 - val_loss: 0.2881 - val_acc: 0.8870\n",
      "Epoch 32/40\n",
      "15000/15000 [==============================] - 1s 39us/sample - loss: 0.1297 - acc: 0.9619 - val_loss: 0.2894 - val_acc: 0.8861\n",
      "Epoch 33/40\n",
      "15000/15000 [==============================] - 1s 38us/sample - loss: 0.1246 - acc: 0.9639 - val_loss: 0.2915 - val_acc: 0.8859\n",
      "Epoch 34/40\n",
      "15000/15000 [==============================] - 1s 38us/sample - loss: 0.1201 - acc: 0.9654 - val_loss: 0.2934 - val_acc: 0.8866\n",
      "Epoch 35/40\n",
      "15000/15000 [==============================] - 1s 38us/sample - loss: 0.1160 - acc: 0.9656 - val_loss: 0.2955 - val_acc: 0.8856\n",
      "Epoch 36/40\n",
      "15000/15000 [==============================] - 1s 39us/sample - loss: 0.1114 - acc: 0.9688 - val_loss: 0.2974 - val_acc: 0.8857\n",
      "Epoch 37/40\n",
      "15000/15000 [==============================] - 1s 39us/sample - loss: 0.1070 - acc: 0.9698 - val_loss: 0.3000 - val_acc: 0.8853\n",
      "Epoch 38/40\n",
      "15000/15000 [==============================] - 1s 40us/sample - loss: 0.1030 - acc: 0.9713 - val_loss: 0.3035 - val_acc: 0.8839\n",
      "Epoch 39/40\n",
      "15000/15000 [==============================] - 1s 40us/sample - loss: 0.0998 - acc: 0.9723 - val_loss: 0.3068 - val_acc: 0.8832\n",
      "Epoch 40/40\n",
      "15000/15000 [==============================] - 1s 40us/sample - loss: 0.0957 - acc: 0.9745 - val_loss: 0.3094 - val_acc: 0.8836\n"
     ]
    }
   ],
   "source": [
    "history = model.fit(partial_x_train,\n",
    "                    partial_y_train,\n",
    "                    epochs=40,\n",
    "                    batch_size=512,\n",
    "                    validation_data=(x_val, y_val),\n",
    "                    verbose=1)"
   ]
  },
  {
   "cell_type": "code",
   "execution_count": 17,
   "metadata": {},
   "outputs": [
    {
     "name": "stdout",
     "output_type": "stream",
     "text": [
      "25000/25000 [==============================] - 1s 50us/sample - loss: 0.3305 - acc: 0.8718\n",
      "[0.3305300520181656, 0.87184]\n"
     ]
    }
   ],
   "source": [
    "results = model.evaluate(test_data, test_labels)\n",
    "print(results)"
   ]
  },
  {
   "cell_type": "code",
   "execution_count": 19,
   "metadata": {},
   "outputs": [
    {
     "data": {
      "text/plain": [
       "<matplotlib.legend.Legend at 0x2bd757c22e8>"
      ]
     },
     "execution_count": 19,
     "metadata": {},
     "output_type": "execute_result"
    },
    {
     "data": {
      "image/png": "[encoded data removed]",
      "text/plain": [
       "<Figure size 432x288 with 1 Axes>"
      ]
     },
     "metadata": {
      "needs_background": "light"
     },
     "output_type": "display_data"
    }
   ],
   "source": [
    "import matplotlib.pyplot as plt\n",
    "\n",
    "history_dict = history.history\n",
    "history_dict.keys()\n",
    "\n",
    "acc = history.history['acc']\n",
    "val_acc = history.history['val_acc']\n",
    "loss = history.history['loss']\n",
    "val_loss = history.history['val_loss']\n",
    "\n",
    "epochs = range(1, len(acc) + 1)\n",
    "\n",
    "# \"bo\" is for \"blue dot\"\n",
    "plt.plot(epochs, loss, 'bo', label='Training loss')\n",
    "# b is for \"solid blue line\"\n",
    "plt.plot(epochs, val_loss, 'b', label='Validation loss')\n",
    "plt.title('Training and validation loss')\n",
    "plt.xlabel('Epochs')\n",
    "plt.ylabel('Loss')\n",
    "plt.legend()"
   ]
  },
  {
   "cell_type": "code",
   "execution_count": 20,
   "metadata": {},
   "outputs": [
    {
     "data": {
      "text/plain": [
       "<matplotlib.legend.Legend at 0x2bd75444f98>"
      ]
     },
     "execution_count": 20,
     "metadata": {},
     "output_type": "execute_result"
    },
    {
     "data": {
      "image/png": "[encoded data removed]",
      "text/plain": [
       "<Figure size 432x288 with 1 Axes>"
      ]
     },
     "metadata": {
      "needs_background": "light"
     },
     "output_type": "display_data"
    }
   ],
   "source": [
    "plt.clf()   # clear figure\n",
    "acc_values = history_dict['acc']\n",
    "val_acc_values = history_dict['val_acc']\n",
    "\n",
    "plt.plot(epochs, acc, 'bo', label='Training acc')\n",
    "plt.plot(epochs, val_acc, 'b', label='Validation acc')\n",
    "plt.title('Training and validation accuracy')\n",
    "plt.xlabel('Epochs')\n",
    "plt.ylabel('Accuracy')\n",
    "plt.legend()"
   ]
  },
  {
   "cell_type": "code",
   "execution_count": null,
   "metadata": {},
   "outputs": [],
   "source": []
  }
 ],
 "metadata": {
  "kernelspec": {
   "display_name": "Python 3",
   "language": "python",
   "name": "python3"
  },
  "language_info": {
   "codemirror_mode": {
    "name": "ipython",
    "version": 3
   },
   "file_extension": ".py",
   "mimetype": "text/x-python",
   "name": "python",
   "nbconvert_exporter": "python",
   "pygments_lexer": "ipython3",
   "version": "3.7.3"
  }
 },
 "nbformat": 4,
 "nbformat_minor": 2
}
